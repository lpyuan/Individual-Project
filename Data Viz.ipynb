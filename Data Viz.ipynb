{
 "cells": [
  {
   "cell_type": "code",
   "execution_count": 211,
   "metadata": {},
   "outputs": [],
   "source": [
    "import numpy as np\n",
    "import pandas as pd\n",
    "import csv"
   ]
  },
  {
   "cell_type": "markdown",
   "metadata": {},
   "source": [
    "Load data in .txt format and transform it into Dataframe"
   ]
  },
  {
   "cell_type": "code",
   "execution_count": 302,
   "metadata": {},
   "outputs": [],
   "source": [
    "f = open('/Users/lipinyuan/Downloads/Firearm related death.txt').readlines()\n",
    "\n",
    "data = []\n",
    "firstLine = f.pop(0)\n",
    "for line in f:\n",
    "    data_line = line.rstrip().split('\\t')\n",
    "    data.append(data_line)\n",
    "\n",
    "df = pd.DataFrame(data)"
   ]
  },
  {
   "cell_type": "code",
   "execution_count": 284,
   "metadata": {},
   "outputs": [
    {
     "name": "stdout",
     "output_type": "stream",
     "text": [
      "<class 'pandas.core.frame.DataFrame'>\n",
      "RangeIndex: 1822 entries, 0 to 1821\n",
      "Data columns (total 10 columns):\n",
      "0    1822 non-null object\n",
      "1    1740 non-null object\n",
      "2    1740 non-null object\n",
      "3    1740 non-null object\n",
      "4    1740 non-null object\n",
      "5    1740 non-null object\n",
      "6    1740 non-null object\n",
      "7    1740 non-null object\n",
      "8    1740 non-null object\n",
      "9    1740 non-null object\n",
      "dtypes: object(10)\n",
      "memory usage: 142.4+ KB\n"
     ]
    }
   ],
   "source": [
    "df.info()"
   ]
  },
  {
   "cell_type": "markdown",
   "metadata": {},
   "source": [
    "Read data and rename the columns"
   ]
  },
  {
   "cell_type": "code",
   "execution_count": 285,
   "metadata": {},
   "outputs": [
    {
     "data": {
      "text/html": [
       "<div>\n",
       "<style scoped>\n",
       "    .dataframe tbody tr th:only-of-type {\n",
       "        vertical-align: middle;\n",
       "    }\n",
       "\n",
       "    .dataframe tbody tr th {\n",
       "        vertical-align: top;\n",
       "    }\n",
       "\n",
       "    .dataframe thead th {\n",
       "        text-align: right;\n",
       "    }\n",
       "</style>\n",
       "<table border=\"1\" class=\"dataframe\">\n",
       "  <thead>\n",
       "    <tr style=\"text-align: right;\">\n",
       "      <th></th>\n",
       "      <th>0</th>\n",
       "      <th>1</th>\n",
       "      <th>2</th>\n",
       "      <th>3</th>\n",
       "      <th>4</th>\n",
       "      <th>5</th>\n",
       "      <th>6</th>\n",
       "      <th>7</th>\n",
       "      <th>8</th>\n",
       "      <th>9</th>\n",
       "    </tr>\n",
       "  </thead>\n",
       "  <tbody>\n",
       "    <tr>\n",
       "      <th>0</th>\n",
       "      <td></td>\n",
       "      <td>\"1999\"</td>\n",
       "      <td>\"1999\"</td>\n",
       "      <td>\"Alabama\"</td>\n",
       "      <td>\"01\"</td>\n",
       "      <td>\"Intentional self-harm (suicide) by discharge ...</td>\n",
       "      <td>\"GR113-125\"</td>\n",
       "      <td>436</td>\n",
       "      <td>4430141</td>\n",
       "      <td>9.8</td>\n",
       "    </tr>\n",
       "    <tr>\n",
       "      <th>1</th>\n",
       "      <td></td>\n",
       "      <td>\"1999\"</td>\n",
       "      <td>\"1999\"</td>\n",
       "      <td>\"Alabama\"</td>\n",
       "      <td>\"01\"</td>\n",
       "      <td>\"Assault (homicide) by discharge of firearms (...</td>\n",
       "      <td>\"GR113-128\"</td>\n",
       "      <td>293</td>\n",
       "      <td>4430141</td>\n",
       "      <td>6.6</td>\n",
       "    </tr>\n",
       "    <tr>\n",
       "      <th>2</th>\n",
       "      <td></td>\n",
       "      <td>\"1999\"</td>\n",
       "      <td>\"1999\"</td>\n",
       "      <td>\"Alaska\"</td>\n",
       "      <td>\"02\"</td>\n",
       "      <td>\"Intentional self-harm (suicide) by discharge ...</td>\n",
       "      <td>\"GR113-125\"</td>\n",
       "      <td>55</td>\n",
       "      <td>624779</td>\n",
       "      <td>8.8</td>\n",
       "    </tr>\n",
       "    <tr>\n",
       "      <th>3</th>\n",
       "      <td></td>\n",
       "      <td>\"1999\"</td>\n",
       "      <td>\"1999\"</td>\n",
       "      <td>\"Alaska\"</td>\n",
       "      <td>\"02\"</td>\n",
       "      <td>\"Assault (homicide) by discharge of firearms (...</td>\n",
       "      <td>\"GR113-128\"</td>\n",
       "      <td>27</td>\n",
       "      <td>624779</td>\n",
       "      <td>4.3</td>\n",
       "    </tr>\n",
       "    <tr>\n",
       "      <th>4</th>\n",
       "      <td></td>\n",
       "      <td>\"1999\"</td>\n",
       "      <td>\"1999\"</td>\n",
       "      <td>\"Arizona\"</td>\n",
       "      <td>\"04\"</td>\n",
       "      <td>\"Intentional self-harm (suicide) by discharge ...</td>\n",
       "      <td>\"GR113-125\"</td>\n",
       "      <td>477</td>\n",
       "      <td>5023823</td>\n",
       "      <td>9.5</td>\n",
       "    </tr>\n",
       "  </tbody>\n",
       "</table>\n",
       "</div>"
      ],
      "text/plain": [
       "  0       1       2          3     4  \\\n",
       "0    \"1999\"  \"1999\"  \"Alabama\"  \"01\"   \n",
       "1    \"1999\"  \"1999\"  \"Alabama\"  \"01\"   \n",
       "2    \"1999\"  \"1999\"   \"Alaska\"  \"02\"   \n",
       "3    \"1999\"  \"1999\"   \"Alaska\"  \"02\"   \n",
       "4    \"1999\"  \"1999\"  \"Arizona\"  \"04\"   \n",
       "\n",
       "                                                   5            6    7  \\\n",
       "0  \"Intentional self-harm (suicide) by discharge ...  \"GR113-125\"  436   \n",
       "1  \"Assault (homicide) by discharge of firearms (...  \"GR113-128\"  293   \n",
       "2  \"Intentional self-harm (suicide) by discharge ...  \"GR113-125\"   55   \n",
       "3  \"Assault (homicide) by discharge of firearms (...  \"GR113-128\"   27   \n",
       "4  \"Intentional self-harm (suicide) by discharge ...  \"GR113-125\"  477   \n",
       "\n",
       "         8    9  \n",
       "0  4430141  9.8  \n",
       "1  4430141  6.6  \n",
       "2   624779  8.8  \n",
       "3   624779  4.3  \n",
       "4  5023823  9.5  "
      ]
     },
     "execution_count": 285,
     "metadata": {},
     "output_type": "execute_result"
    }
   ],
   "source": [
    "df.head()"
   ]
  },
  {
   "cell_type": "code",
   "execution_count": 286,
   "metadata": {},
   "outputs": [],
   "source": [
    "df = df.rename(columns={0: 'Notes', \n",
    "                   1: 'Year',\n",
    "                   2:'Year Code',\n",
    "                   3:\"State\",\n",
    "                   4:\"State Code\",\n",
    "                   5:\"Death_Cause\",\n",
    "                   6:\"Death_Cause_List_Code\",\n",
    "                   7:\"Deaths\",\n",
    "                   8:\"Population\",\n",
    "                   9:\"Crude Rate\"})"
   ]
  },
  {
   "cell_type": "code",
   "execution_count": 287,
   "metadata": {},
   "outputs": [
    {
     "data": {
      "text/html": [
       "<div>\n",
       "<style scoped>\n",
       "    .dataframe tbody tr th:only-of-type {\n",
       "        vertical-align: middle;\n",
       "    }\n",
       "\n",
       "    .dataframe tbody tr th {\n",
       "        vertical-align: top;\n",
       "    }\n",
       "\n",
       "    .dataframe thead th {\n",
       "        text-align: right;\n",
       "    }\n",
       "</style>\n",
       "<table border=\"1\" class=\"dataframe\">\n",
       "  <thead>\n",
       "    <tr style=\"text-align: right;\">\n",
       "      <th></th>\n",
       "      <th>Notes</th>\n",
       "      <th>Year</th>\n",
       "      <th>Year Code</th>\n",
       "      <th>State</th>\n",
       "      <th>State Code</th>\n",
       "      <th>Death_Cause</th>\n",
       "      <th>Death_Cause_List_Code</th>\n",
       "      <th>Deaths</th>\n",
       "      <th>Population</th>\n",
       "      <th>Crude Rate</th>\n",
       "    </tr>\n",
       "  </thead>\n",
       "  <tbody>\n",
       "    <tr>\n",
       "      <th>0</th>\n",
       "      <td></td>\n",
       "      <td>\"1999\"</td>\n",
       "      <td>\"1999\"</td>\n",
       "      <td>\"Alabama\"</td>\n",
       "      <td>\"01\"</td>\n",
       "      <td>\"Intentional self-harm (suicide) by discharge ...</td>\n",
       "      <td>\"GR113-125\"</td>\n",
       "      <td>436</td>\n",
       "      <td>4430141</td>\n",
       "      <td>9.8</td>\n",
       "    </tr>\n",
       "    <tr>\n",
       "      <th>1</th>\n",
       "      <td></td>\n",
       "      <td>\"1999\"</td>\n",
       "      <td>\"1999\"</td>\n",
       "      <td>\"Alabama\"</td>\n",
       "      <td>\"01\"</td>\n",
       "      <td>\"Assault (homicide) by discharge of firearms (...</td>\n",
       "      <td>\"GR113-128\"</td>\n",
       "      <td>293</td>\n",
       "      <td>4430141</td>\n",
       "      <td>6.6</td>\n",
       "    </tr>\n",
       "    <tr>\n",
       "      <th>2</th>\n",
       "      <td></td>\n",
       "      <td>\"1999\"</td>\n",
       "      <td>\"1999\"</td>\n",
       "      <td>\"Alaska\"</td>\n",
       "      <td>\"02\"</td>\n",
       "      <td>\"Intentional self-harm (suicide) by discharge ...</td>\n",
       "      <td>\"GR113-125\"</td>\n",
       "      <td>55</td>\n",
       "      <td>624779</td>\n",
       "      <td>8.8</td>\n",
       "    </tr>\n",
       "    <tr>\n",
       "      <th>3</th>\n",
       "      <td></td>\n",
       "      <td>\"1999\"</td>\n",
       "      <td>\"1999\"</td>\n",
       "      <td>\"Alaska\"</td>\n",
       "      <td>\"02\"</td>\n",
       "      <td>\"Assault (homicide) by discharge of firearms (...</td>\n",
       "      <td>\"GR113-128\"</td>\n",
       "      <td>27</td>\n",
       "      <td>624779</td>\n",
       "      <td>4.3</td>\n",
       "    </tr>\n",
       "    <tr>\n",
       "      <th>4</th>\n",
       "      <td></td>\n",
       "      <td>\"1999\"</td>\n",
       "      <td>\"1999\"</td>\n",
       "      <td>\"Arizona\"</td>\n",
       "      <td>\"04\"</td>\n",
       "      <td>\"Intentional self-harm (suicide) by discharge ...</td>\n",
       "      <td>\"GR113-125\"</td>\n",
       "      <td>477</td>\n",
       "      <td>5023823</td>\n",
       "      <td>9.5</td>\n",
       "    </tr>\n",
       "  </tbody>\n",
       "</table>\n",
       "</div>"
      ],
      "text/plain": [
       "  Notes    Year Year Code      State State Code  \\\n",
       "0        \"1999\"    \"1999\"  \"Alabama\"       \"01\"   \n",
       "1        \"1999\"    \"1999\"  \"Alabama\"       \"01\"   \n",
       "2        \"1999\"    \"1999\"   \"Alaska\"       \"02\"   \n",
       "3        \"1999\"    \"1999\"   \"Alaska\"       \"02\"   \n",
       "4        \"1999\"    \"1999\"  \"Arizona\"       \"04\"   \n",
       "\n",
       "                                         Death_Cause Death_Cause_List_Code  \\\n",
       "0  \"Intentional self-harm (suicide) by discharge ...           \"GR113-125\"   \n",
       "1  \"Assault (homicide) by discharge of firearms (...           \"GR113-128\"   \n",
       "2  \"Intentional self-harm (suicide) by discharge ...           \"GR113-125\"   \n",
       "3  \"Assault (homicide) by discharge of firearms (...           \"GR113-128\"   \n",
       "4  \"Intentional self-harm (suicide) by discharge ...           \"GR113-125\"   \n",
       "\n",
       "  Deaths Population Crude Rate  \n",
       "0    436    4430141        9.8  \n",
       "1    293    4430141        6.6  \n",
       "2     55     624779        8.8  \n",
       "3     27     624779        4.3  \n",
       "4    477    5023823        9.5  "
      ]
     },
     "execution_count": 287,
     "metadata": {},
     "output_type": "execute_result"
    }
   ],
   "source": [
    "df.head()"
   ]
  },
  {
   "cell_type": "code",
   "execution_count": 288,
   "metadata": {},
   "outputs": [
    {
     "data": {
      "text/plain": [
       "Index(['Notes', 'Year', 'Year Code', 'State', 'State Code', 'Death_Cause',\n",
       "       'Death_Cause_List_Code', 'Deaths', 'Population', 'Crude Rate'],\n",
       "      dtype='object')"
      ]
     },
     "execution_count": 288,
     "metadata": {},
     "output_type": "execute_result"
    }
   ],
   "source": [
    "df.dtypes.index"
   ]
  },
  {
   "cell_type": "markdown",
   "metadata": {},
   "source": [
    "Extract the data and remove double quotes"
   ]
  },
  {
   "cell_type": "code",
   "execution_count": 289,
   "metadata": {},
   "outputs": [],
   "source": [
    "df2 = df.drop(df.columns[[0,2,4,6,9]], axis = 1) "
   ]
  },
  {
   "cell_type": "code",
   "execution_count": 290,
   "metadata": {},
   "outputs": [],
   "source": [
    "df2 = df2.dropna()"
   ]
  },
  {
   "cell_type": "code",
   "execution_count": 293,
   "metadata": {},
   "outputs": [],
   "source": [
    "df2['State'] = df2['State'].str.replace('\"','')\n",
    "df2['Year'] = df2['Year'].str.replace('\"','')\n",
    "df2['Death_Cause'] = df2['Death_Cause'].str.replace('\"','')"
   ]
  },
  {
   "cell_type": "code",
   "execution_count": 272,
   "metadata": {},
   "outputs": [
    {
     "data": {
      "text/plain": [
       "array(['Intentional self-harm (suicide) by discharge of firearms (X72-X74)',\n",
       "       'Assault (homicide) by discharge of firearms (*U01.4,X93-X95)'],\n",
       "      dtype=object)"
      ]
     },
     "execution_count": 272,
     "metadata": {},
     "output_type": "execute_result"
    }
   ],
   "source": [
    "df2[\"Death_Cause\"].unique()"
   ]
  },
  {
   "cell_type": "markdown",
   "metadata": {},
   "source": [
    "Change the long description to simple word"
   ]
  },
  {
   "cell_type": "code",
   "execution_count": 294,
   "metadata": {},
   "outputs": [],
   "source": [
    "df2 = df2.replace(\"Intentional self-harm (suicide) by discharge of firearms (X72-X74)\",\"suicide\").replace(\n",
    "    \"Assault (homicide) by discharge of firearms (*U01.4,X93-X95)\",\"homicide\")"
   ]
  },
  {
   "cell_type": "code",
   "execution_count": 295,
   "metadata": {},
   "outputs": [
    {
     "data": {
      "text/html": [
       "<div>\n",
       "<style scoped>\n",
       "    .dataframe tbody tr th:only-of-type {\n",
       "        vertical-align: middle;\n",
       "    }\n",
       "\n",
       "    .dataframe tbody tr th {\n",
       "        vertical-align: top;\n",
       "    }\n",
       "\n",
       "    .dataframe thead th {\n",
       "        text-align: right;\n",
       "    }\n",
       "</style>\n",
       "<table border=\"1\" class=\"dataframe\">\n",
       "  <thead>\n",
       "    <tr style=\"text-align: right;\">\n",
       "      <th></th>\n",
       "      <th>Year</th>\n",
       "      <th>State</th>\n",
       "      <th>Death_Cause</th>\n",
       "      <th>Deaths</th>\n",
       "      <th>Population</th>\n",
       "    </tr>\n",
       "  </thead>\n",
       "  <tbody>\n",
       "    <tr>\n",
       "      <th>0</th>\n",
       "      <td>1999</td>\n",
       "      <td>Alabama</td>\n",
       "      <td>suicide</td>\n",
       "      <td>436</td>\n",
       "      <td>4430141</td>\n",
       "    </tr>\n",
       "    <tr>\n",
       "      <th>1</th>\n",
       "      <td>1999</td>\n",
       "      <td>Alabama</td>\n",
       "      <td>homicide</td>\n",
       "      <td>293</td>\n",
       "      <td>4430141</td>\n",
       "    </tr>\n",
       "    <tr>\n",
       "      <th>2</th>\n",
       "      <td>1999</td>\n",
       "      <td>Alaska</td>\n",
       "      <td>suicide</td>\n",
       "      <td>55</td>\n",
       "      <td>624779</td>\n",
       "    </tr>\n",
       "    <tr>\n",
       "      <th>3</th>\n",
       "      <td>1999</td>\n",
       "      <td>Alaska</td>\n",
       "      <td>homicide</td>\n",
       "      <td>27</td>\n",
       "      <td>624779</td>\n",
       "    </tr>\n",
       "    <tr>\n",
       "      <th>4</th>\n",
       "      <td>1999</td>\n",
       "      <td>Arizona</td>\n",
       "      <td>suicide</td>\n",
       "      <td>477</td>\n",
       "      <td>5023823</td>\n",
       "    </tr>\n",
       "  </tbody>\n",
       "</table>\n",
       "</div>"
      ],
      "text/plain": [
       "   Year    State Death_Cause Deaths Population\n",
       "0  1999  Alabama     suicide    436    4430141\n",
       "1  1999  Alabama    homicide    293    4430141\n",
       "2  1999   Alaska     suicide     55     624779\n",
       "3  1999   Alaska    homicide     27     624779\n",
       "4  1999  Arizona     suicide    477    5023823"
      ]
     },
     "execution_count": 295,
     "metadata": {},
     "output_type": "execute_result"
    }
   ],
   "source": [
    "df2.head()"
   ]
  },
  {
   "cell_type": "markdown",
   "metadata": {},
   "source": [
    "Transform datatype from object to integer"
   ]
  },
  {
   "cell_type": "code",
   "execution_count": 296,
   "metadata": {},
   "outputs": [],
   "source": [
    "df2['Deaths'] = df2['Deaths'].astype(np.int)\n",
    "df2['Population'] = df2['Population'].astype(np.int)"
   ]
  },
  {
   "cell_type": "code",
   "execution_count": 298,
   "metadata": {},
   "outputs": [
    {
     "data": {
      "text/plain": [
       "Year           object\n",
       "State          object\n",
       "Death_Cause    object\n",
       "Deaths          int64\n",
       "Population      int64\n",
       "dtype: object"
      ]
     },
     "execution_count": 298,
     "metadata": {},
     "output_type": "execute_result"
    }
   ],
   "source": [
    "df2.dtypes"
   ]
  },
  {
   "cell_type": "markdown",
   "metadata": {},
   "source": [
    "Separate dataset into two categories"
   ]
  },
  {
   "cell_type": "code",
   "execution_count": 273,
   "metadata": {},
   "outputs": [],
   "source": [
    "suicide=df2[(df2['Death_Cause'].str.contains('suicide',na=False))]"
   ]
  },
  {
   "cell_type": "code",
   "execution_count": 274,
   "metadata": {},
   "outputs": [
    {
     "data": {
      "text/html": [
       "<div>\n",
       "<style scoped>\n",
       "    .dataframe tbody tr th:only-of-type {\n",
       "        vertical-align: middle;\n",
       "    }\n",
       "\n",
       "    .dataframe tbody tr th {\n",
       "        vertical-align: top;\n",
       "    }\n",
       "\n",
       "    .dataframe thead th {\n",
       "        text-align: right;\n",
       "    }\n",
       "</style>\n",
       "<table border=\"1\" class=\"dataframe\">\n",
       "  <thead>\n",
       "    <tr style=\"text-align: right;\">\n",
       "      <th></th>\n",
       "      <th>Year</th>\n",
       "      <th>State</th>\n",
       "      <th>Death_Cause_List</th>\n",
       "      <th>Deaths</th>\n",
       "      <th>Population</th>\n",
       "    </tr>\n",
       "  </thead>\n",
       "  <tbody>\n",
       "    <tr>\n",
       "      <th>0</th>\n",
       "      <td>1999</td>\n",
       "      <td>Alabama</td>\n",
       "      <td>Intentional self-harm (suicide) by discharge o...</td>\n",
       "      <td>436</td>\n",
       "      <td>4430141</td>\n",
       "    </tr>\n",
       "    <tr>\n",
       "      <th>2</th>\n",
       "      <td>1999</td>\n",
       "      <td>Alaska</td>\n",
       "      <td>Intentional self-harm (suicide) by discharge o...</td>\n",
       "      <td>55</td>\n",
       "      <td>624779</td>\n",
       "    </tr>\n",
       "    <tr>\n",
       "      <th>4</th>\n",
       "      <td>1999</td>\n",
       "      <td>Arizona</td>\n",
       "      <td>Intentional self-harm (suicide) by discharge o...</td>\n",
       "      <td>477</td>\n",
       "      <td>5023823</td>\n",
       "    </tr>\n",
       "    <tr>\n",
       "      <th>6</th>\n",
       "      <td>1999</td>\n",
       "      <td>Arkansas</td>\n",
       "      <td>Intentional self-harm (suicide) by discharge o...</td>\n",
       "      <td>236</td>\n",
       "      <td>2651860</td>\n",
       "    </tr>\n",
       "    <tr>\n",
       "      <th>8</th>\n",
       "      <td>1999</td>\n",
       "      <td>California</td>\n",
       "      <td>Intentional self-harm (suicide) by discharge o...</td>\n",
       "      <td>1534</td>\n",
       "      <td>33499204</td>\n",
       "    </tr>\n",
       "  </tbody>\n",
       "</table>\n",
       "</div>"
      ],
      "text/plain": [
       "   Year       State                                   Death_Cause_List  \\\n",
       "0  1999     Alabama  Intentional self-harm (suicide) by discharge o...   \n",
       "2  1999      Alaska  Intentional self-harm (suicide) by discharge o...   \n",
       "4  1999     Arizona  Intentional self-harm (suicide) by discharge o...   \n",
       "6  1999    Arkansas  Intentional self-harm (suicide) by discharge o...   \n",
       "8  1999  California  Intentional self-harm (suicide) by discharge o...   \n",
       "\n",
       "   Deaths  Population  \n",
       "0     436     4430141  \n",
       "2      55      624779  \n",
       "4     477     5023823  \n",
       "6     236     2651860  \n",
       "8    1534    33499204  "
      ]
     },
     "execution_count": 274,
     "metadata": {},
     "output_type": "execute_result"
    }
   ],
   "source": [
    "suicide.head()"
   ]
  },
  {
   "cell_type": "code",
   "execution_count": 299,
   "metadata": {},
   "outputs": [],
   "source": [
    "homicide=df2[(df2['Death_Cause'].str.contains('homicide',na=False))]"
   ]
  },
  {
   "cell_type": "code",
   "execution_count": 300,
   "metadata": {},
   "outputs": [
    {
     "data": {
      "text/html": [
       "<div>\n",
       "<style scoped>\n",
       "    .dataframe tbody tr th:only-of-type {\n",
       "        vertical-align: middle;\n",
       "    }\n",
       "\n",
       "    .dataframe tbody tr th {\n",
       "        vertical-align: top;\n",
       "    }\n",
       "\n",
       "    .dataframe thead th {\n",
       "        text-align: right;\n",
       "    }\n",
       "</style>\n",
       "<table border=\"1\" class=\"dataframe\">\n",
       "  <thead>\n",
       "    <tr style=\"text-align: right;\">\n",
       "      <th></th>\n",
       "      <th>Year</th>\n",
       "      <th>State</th>\n",
       "      <th>Death_Cause</th>\n",
       "      <th>Deaths</th>\n",
       "      <th>Population</th>\n",
       "    </tr>\n",
       "  </thead>\n",
       "  <tbody>\n",
       "    <tr>\n",
       "      <th>1</th>\n",
       "      <td>1999</td>\n",
       "      <td>Alabama</td>\n",
       "      <td>homicide</td>\n",
       "      <td>293</td>\n",
       "      <td>4430141</td>\n",
       "    </tr>\n",
       "    <tr>\n",
       "      <th>3</th>\n",
       "      <td>1999</td>\n",
       "      <td>Alaska</td>\n",
       "      <td>homicide</td>\n",
       "      <td>27</td>\n",
       "      <td>624779</td>\n",
       "    </tr>\n",
       "    <tr>\n",
       "      <th>5</th>\n",
       "      <td>1999</td>\n",
       "      <td>Arizona</td>\n",
       "      <td>homicide</td>\n",
       "      <td>303</td>\n",
       "      <td>5023823</td>\n",
       "    </tr>\n",
       "    <tr>\n",
       "      <th>7</th>\n",
       "      <td>1999</td>\n",
       "      <td>Arkansas</td>\n",
       "      <td>homicide</td>\n",
       "      <td>120</td>\n",
       "      <td>2651860</td>\n",
       "    </tr>\n",
       "    <tr>\n",
       "      <th>9</th>\n",
       "      <td>1999</td>\n",
       "      <td>California</td>\n",
       "      <td>homicide</td>\n",
       "      <td>1387</td>\n",
       "      <td>33499204</td>\n",
       "    </tr>\n",
       "  </tbody>\n",
       "</table>\n",
       "</div>"
      ],
      "text/plain": [
       "   Year       State Death_Cause  Deaths  Population\n",
       "1  1999     Alabama    homicide     293     4430141\n",
       "3  1999      Alaska    homicide      27      624779\n",
       "5  1999     Arizona    homicide     303     5023823\n",
       "7  1999    Arkansas    homicide     120     2651860\n",
       "9  1999  California    homicide    1387    33499204"
      ]
     },
     "execution_count": 300,
     "metadata": {},
     "output_type": "execute_result"
    }
   ],
   "source": [
    "homicide.head()"
   ]
  },
  {
   "cell_type": "markdown",
   "metadata": {},
   "source": [
    "Export Data for visualization in Tableau"
   ]
  },
  {
   "cell_type": "code",
   "execution_count": 301,
   "metadata": {},
   "outputs": [],
   "source": [
    "df2.to_csv(\"firearm_death.csv\", encoding='utf-8')"
   ]
  },
  {
   "cell_type": "code",
   "execution_count": 279,
   "metadata": {},
   "outputs": [],
   "source": [
    "homicide.to_csv(\"homicide_death.csv\", encoding='utf-8')"
   ]
  },
  {
   "cell_type": "code",
   "execution_count": 275,
   "metadata": {},
   "outputs": [],
   "source": [
    "suicide.to_csv(\"suicide_death.csv\", encoding='utf-8')"
   ]
  },
  {
   "cell_type": "code",
   "execution_count": null,
   "metadata": {},
   "outputs": [],
   "source": []
  }
 ],
 "metadata": {
  "kernelspec": {
   "display_name": "Python 3",
   "language": "python",
   "name": "python3"
  },
  "language_info": {
   "codemirror_mode": {
    "name": "ipython",
    "version": 3
   },
   "file_extension": ".py",
   "mimetype": "text/x-python",
   "name": "python",
   "nbconvert_exporter": "python",
   "pygments_lexer": "ipython3",
   "version": "3.6.4"
  }
 },
 "nbformat": 4,
 "nbformat_minor": 2
}
