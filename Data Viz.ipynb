{
 "cells": [
  {
   "cell_type": "code",
   "execution_count": 2,
   "metadata": {},
   "outputs": [],
   "source": [
    "import numpy as np\n",
    "import pandas as pd\n",
    "import csv"
   ]
  },
  {
   "cell_type": "markdown",
   "metadata": {},
   "source": [
    "Load data in .txt format and transform it into Dataframe"
   ]
  },
  {
   "cell_type": "code",
   "execution_count": 7,
   "metadata": {},
   "outputs": [],
   "source": [
    "f = open('/Users/lipinyuan/Downloads/Firearm related death.txt').readlines()\n",
    "\n",
    "data = []\n",
    "firstLine = f.pop(0)\n",
    "for line in f:\n",
    "    data_line = line.rstrip().split('\\t')\n",
    "    data.append(data_line)\n",
    "\n",
    "df = pd.DataFrame(data)"
   ]
  },
  {
   "cell_type": "code",
   "execution_count": 8,
   "metadata": {},
   "outputs": [
    {
     "name": "stdout",
     "output_type": "stream",
     "text": [
      "<class 'pandas.core.frame.DataFrame'>\n",
      "RangeIndex: 1822 entries, 0 to 1821\n",
      "Data columns (total 10 columns):\n",
      "0    1822 non-null object\n",
      "1    1740 non-null object\n",
      "2    1740 non-null object\n",
      "3    1740 non-null object\n",
      "4    1740 non-null object\n",
      "5    1740 non-null object\n",
      "6    1740 non-null object\n",
      "7    1740 non-null object\n",
      "8    1740 non-null object\n",
      "9    1740 non-null object\n",
      "dtypes: object(10)\n",
      "memory usage: 142.4+ KB\n"
     ]
    }
   ],
   "source": [
    "df.info()"
   ]
  },
  {
   "cell_type": "markdown",
   "metadata": {},
   "source": [
    "Read data and rename the columns"
   ]
  },
  {
   "cell_type": "code",
   "execution_count": 9,
   "metadata": {},
   "outputs": [
    {
     "data": {
      "text/html": [
       "<div>\n",
       "<style scoped>\n",
       "    .dataframe tbody tr th:only-of-type {\n",
       "        vertical-align: middle;\n",
       "    }\n",
       "\n",
       "    .dataframe tbody tr th {\n",
       "        vertical-align: top;\n",
       "    }\n",
       "\n",
       "    .dataframe thead th {\n",
       "        text-align: right;\n",
       "    }\n",
       "</style>\n",
       "<table border=\"1\" class=\"dataframe\">\n",
       "  <thead>\n",
       "    <tr style=\"text-align: right;\">\n",
       "      <th></th>\n",
       "      <th>0</th>\n",
       "      <th>1</th>\n",
       "      <th>2</th>\n",
       "      <th>3</th>\n",
       "      <th>4</th>\n",
       "      <th>5</th>\n",
       "      <th>6</th>\n",
       "      <th>7</th>\n",
       "      <th>8</th>\n",
       "      <th>9</th>\n",
       "    </tr>\n",
       "  </thead>\n",
       "  <tbody>\n",
       "    <tr>\n",
       "      <th>0</th>\n",
       "      <td></td>\n",
       "      <td>\"1999\"</td>\n",
       "      <td>\"1999\"</td>\n",
       "      <td>\"Alabama\"</td>\n",
       "      <td>\"01\"</td>\n",
       "      <td>\"Intentional self-harm (suicide) by discharge ...</td>\n",
       "      <td>\"GR113-125\"</td>\n",
       "      <td>436</td>\n",
       "      <td>4430141</td>\n",
       "      <td>9.8</td>\n",
       "    </tr>\n",
       "    <tr>\n",
       "      <th>1</th>\n",
       "      <td></td>\n",
       "      <td>\"1999\"</td>\n",
       "      <td>\"1999\"</td>\n",
       "      <td>\"Alabama\"</td>\n",
       "      <td>\"01\"</td>\n",
       "      <td>\"Assault (homicide) by discharge of firearms (...</td>\n",
       "      <td>\"GR113-128\"</td>\n",
       "      <td>293</td>\n",
       "      <td>4430141</td>\n",
       "      <td>6.6</td>\n",
       "    </tr>\n",
       "    <tr>\n",
       "      <th>2</th>\n",
       "      <td></td>\n",
       "      <td>\"1999\"</td>\n",
       "      <td>\"1999\"</td>\n",
       "      <td>\"Alaska\"</td>\n",
       "      <td>\"02\"</td>\n",
       "      <td>\"Intentional self-harm (suicide) by discharge ...</td>\n",
       "      <td>\"GR113-125\"</td>\n",
       "      <td>55</td>\n",
       "      <td>624779</td>\n",
       "      <td>8.8</td>\n",
       "    </tr>\n",
       "    <tr>\n",
       "      <th>3</th>\n",
       "      <td></td>\n",
       "      <td>\"1999\"</td>\n",
       "      <td>\"1999\"</td>\n",
       "      <td>\"Alaska\"</td>\n",
       "      <td>\"02\"</td>\n",
       "      <td>\"Assault (homicide) by discharge of firearms (...</td>\n",
       "      <td>\"GR113-128\"</td>\n",
       "      <td>27</td>\n",
       "      <td>624779</td>\n",
       "      <td>4.3</td>\n",
       "    </tr>\n",
       "    <tr>\n",
       "      <th>4</th>\n",
       "      <td></td>\n",
       "      <td>\"1999\"</td>\n",
       "      <td>\"1999\"</td>\n",
       "      <td>\"Arizona\"</td>\n",
       "      <td>\"04\"</td>\n",
       "      <td>\"Intentional self-harm (suicide) by discharge ...</td>\n",
       "      <td>\"GR113-125\"</td>\n",
       "      <td>477</td>\n",
       "      <td>5023823</td>\n",
       "      <td>9.5</td>\n",
       "    </tr>\n",
       "  </tbody>\n",
       "</table>\n",
       "</div>"
      ],
      "text/plain": [
       "  0       1       2          3     4  \\\n",
       "0    \"1999\"  \"1999\"  \"Alabama\"  \"01\"   \n",
       "1    \"1999\"  \"1999\"  \"Alabama\"  \"01\"   \n",
       "2    \"1999\"  \"1999\"   \"Alaska\"  \"02\"   \n",
       "3    \"1999\"  \"1999\"   \"Alaska\"  \"02\"   \n",
       "4    \"1999\"  \"1999\"  \"Arizona\"  \"04\"   \n",
       "\n",
       "                                                   5            6    7  \\\n",
       "0  \"Intentional self-harm (suicide) by discharge ...  \"GR113-125\"  436   \n",
       "1  \"Assault (homicide) by discharge of firearms (...  \"GR113-128\"  293   \n",
       "2  \"Intentional self-harm (suicide) by discharge ...  \"GR113-125\"   55   \n",
       "3  \"Assault (homicide) by discharge of firearms (...  \"GR113-128\"   27   \n",
       "4  \"Intentional self-harm (suicide) by discharge ...  \"GR113-125\"  477   \n",
       "\n",
       "         8    9  \n",
       "0  4430141  9.8  \n",
       "1  4430141  6.6  \n",
       "2   624779  8.8  \n",
       "3   624779  4.3  \n",
       "4  5023823  9.5  "
      ]
     },
     "execution_count": 9,
     "metadata": {},
     "output_type": "execute_result"
    }
   ],
   "source": [
    "df.head()"
   ]
  },
  {
   "cell_type": "code",
   "execution_count": 10,
   "metadata": {},
   "outputs": [],
   "source": [
    "df = df.rename(columns={0: 'Notes', \n",
    "                   1: 'Year',\n",
    "                   2:'Year Code',\n",
    "                   3:\"State\",\n",
    "                   4:\"State Code\",\n",
    "                   5:\"Death_Cause\",\n",
    "                   6:\"Death_Cause_List_Code\",\n",
    "                   7:\"Deaths\",\n",
    "                   8:\"Population\",\n",
    "                   9:\"Crude Rate\"})"
   ]
  },
  {
   "cell_type": "code",
   "execution_count": 11,
   "metadata": {},
   "outputs": [
    {
     "data": {
      "text/html": [
       "<div>\n",
       "<style scoped>\n",
       "    .dataframe tbody tr th:only-of-type {\n",
       "        vertical-align: middle;\n",
       "    }\n",
       "\n",
       "    .dataframe tbody tr th {\n",
       "        vertical-align: top;\n",
       "    }\n",
       "\n",
       "    .dataframe thead th {\n",
       "        text-align: right;\n",
       "    }\n",
       "</style>\n",
       "<table border=\"1\" class=\"dataframe\">\n",
       "  <thead>\n",
       "    <tr style=\"text-align: right;\">\n",
       "      <th></th>\n",
       "      <th>Notes</th>\n",
       "      <th>Year</th>\n",
       "      <th>Year Code</th>\n",
       "      <th>State</th>\n",
       "      <th>State Code</th>\n",
       "      <th>Death_Cause</th>\n",
       "      <th>Death_Cause_List_Code</th>\n",
       "      <th>Deaths</th>\n",
       "      <th>Population</th>\n",
       "      <th>Crude Rate</th>\n",
       "    </tr>\n",
       "  </thead>\n",
       "  <tbody>\n",
       "    <tr>\n",
       "      <th>0</th>\n",
       "      <td></td>\n",
       "      <td>\"1999\"</td>\n",
       "      <td>\"1999\"</td>\n",
       "      <td>\"Alabama\"</td>\n",
       "      <td>\"01\"</td>\n",
       "      <td>\"Intentional self-harm (suicide) by discharge ...</td>\n",
       "      <td>\"GR113-125\"</td>\n",
       "      <td>436</td>\n",
       "      <td>4430141</td>\n",
       "      <td>9.8</td>\n",
       "    </tr>\n",
       "    <tr>\n",
       "      <th>1</th>\n",
       "      <td></td>\n",
       "      <td>\"1999\"</td>\n",
       "      <td>\"1999\"</td>\n",
       "      <td>\"Alabama\"</td>\n",
       "      <td>\"01\"</td>\n",
       "      <td>\"Assault (homicide) by discharge of firearms (...</td>\n",
       "      <td>\"GR113-128\"</td>\n",
       "      <td>293</td>\n",
       "      <td>4430141</td>\n",
       "      <td>6.6</td>\n",
       "    </tr>\n",
       "    <tr>\n",
       "      <th>2</th>\n",
       "      <td></td>\n",
       "      <td>\"1999\"</td>\n",
       "      <td>\"1999\"</td>\n",
       "      <td>\"Alaska\"</td>\n",
       "      <td>\"02\"</td>\n",
       "      <td>\"Intentional self-harm (suicide) by discharge ...</td>\n",
       "      <td>\"GR113-125\"</td>\n",
       "      <td>55</td>\n",
       "      <td>624779</td>\n",
       "      <td>8.8</td>\n",
       "    </tr>\n",
       "    <tr>\n",
       "      <th>3</th>\n",
       "      <td></td>\n",
       "      <td>\"1999\"</td>\n",
       "      <td>\"1999\"</td>\n",
       "      <td>\"Alaska\"</td>\n",
       "      <td>\"02\"</td>\n",
       "      <td>\"Assault (homicide) by discharge of firearms (...</td>\n",
       "      <td>\"GR113-128\"</td>\n",
       "      <td>27</td>\n",
       "      <td>624779</td>\n",
       "      <td>4.3</td>\n",
       "    </tr>\n",
       "    <tr>\n",
       "      <th>4</th>\n",
       "      <td></td>\n",
       "      <td>\"1999\"</td>\n",
       "      <td>\"1999\"</td>\n",
       "      <td>\"Arizona\"</td>\n",
       "      <td>\"04\"</td>\n",
       "      <td>\"Intentional self-harm (suicide) by discharge ...</td>\n",
       "      <td>\"GR113-125\"</td>\n",
       "      <td>477</td>\n",
       "      <td>5023823</td>\n",
       "      <td>9.5</td>\n",
       "    </tr>\n",
       "  </tbody>\n",
       "</table>\n",
       "</div>"
      ],
      "text/plain": [
       "  Notes    Year Year Code      State State Code  \\\n",
       "0        \"1999\"    \"1999\"  \"Alabama\"       \"01\"   \n",
       "1        \"1999\"    \"1999\"  \"Alabama\"       \"01\"   \n",
       "2        \"1999\"    \"1999\"   \"Alaska\"       \"02\"   \n",
       "3        \"1999\"    \"1999\"   \"Alaska\"       \"02\"   \n",
       "4        \"1999\"    \"1999\"  \"Arizona\"       \"04\"   \n",
       "\n",
       "                                         Death_Cause Death_Cause_List_Code  \\\n",
       "0  \"Intentional self-harm (suicide) by discharge ...           \"GR113-125\"   \n",
       "1  \"Assault (homicide) by discharge of firearms (...           \"GR113-128\"   \n",
       "2  \"Intentional self-harm (suicide) by discharge ...           \"GR113-125\"   \n",
       "3  \"Assault (homicide) by discharge of firearms (...           \"GR113-128\"   \n",
       "4  \"Intentional self-harm (suicide) by discharge ...           \"GR113-125\"   \n",
       "\n",
       "  Deaths Population Crude Rate  \n",
       "0    436    4430141        9.8  \n",
       "1    293    4430141        6.6  \n",
       "2     55     624779        8.8  \n",
       "3     27     624779        4.3  \n",
       "4    477    5023823        9.5  "
      ]
     },
     "execution_count": 11,
     "metadata": {},
     "output_type": "execute_result"
    }
   ],
   "source": [
    "df.head()"
   ]
  },
  {
   "cell_type": "code",
   "execution_count": 12,
   "metadata": {},
   "outputs": [
    {
     "data": {
      "text/plain": [
       "Index(['Notes', 'Year', 'Year Code', 'State', 'State Code', 'Death_Cause',\n",
       "       'Death_Cause_List_Code', 'Deaths', 'Population', 'Crude Rate'],\n",
       "      dtype='object')"
      ]
     },
     "execution_count": 12,
     "metadata": {},
     "output_type": "execute_result"
    }
   ],
   "source": [
    "df.dtypes.index"
   ]
  },
  {
   "cell_type": "markdown",
   "metadata": {},
   "source": [
    "Extract the data and remove double quotes"
   ]
  },
  {
   "cell_type": "code",
   "execution_count": 13,
   "metadata": {},
   "outputs": [],
   "source": [
    "df2 = df.drop(df.columns[[0,2,4,6,9]], axis = 1) "
   ]
  },
  {
   "cell_type": "code",
   "execution_count": 14,
   "metadata": {},
   "outputs": [],
   "source": [
    "df2 = df2.dropna()"
   ]
  },
  {
   "cell_type": "code",
   "execution_count": 15,
   "metadata": {},
   "outputs": [],
   "source": [
    "df2['State'] = df2['State'].str.replace('\"','')\n",
    "df2['Year'] = df2['Year'].str.replace('\"','')\n",
    "df2['Death_Cause'] = df2['Death_Cause'].str.replace('\"','')"
   ]
  },
  {
   "cell_type": "code",
   "execution_count": 16,
   "metadata": {},
   "outputs": [
    {
     "data": {
      "text/plain": [
       "array(['Intentional self-harm (suicide) by discharge of firearms (X72-X74)',\n",
       "       'Assault (homicide) by discharge of firearms (*U01.4,X93-X95)'],\n",
       "      dtype=object)"
      ]
     },
     "execution_count": 16,
     "metadata": {},
     "output_type": "execute_result"
    }
   ],
   "source": [
    "df2[\"Death_Cause\"].unique()"
   ]
  },
  {
   "cell_type": "markdown",
   "metadata": {},
   "source": [
    "Change the long description to simple word"
   ]
  },
  {
   "cell_type": "code",
   "execution_count": 17,
   "metadata": {},
   "outputs": [],
   "source": [
    "df2 = df2.replace(\"Intentional self-harm (suicide) by discharge of firearms (X72-X74)\",\"suicide\").replace(\n",
    "    \"Assault (homicide) by discharge of firearms (*U01.4,X93-X95)\",\"homicide\")"
   ]
  },
  {
   "cell_type": "code",
   "execution_count": 35,
   "metadata": {},
   "outputs": [
    {
     "data": {
      "text/html": [
       "<div>\n",
       "<style scoped>\n",
       "    .dataframe tbody tr th:only-of-type {\n",
       "        vertical-align: middle;\n",
       "    }\n",
       "\n",
       "    .dataframe tbody tr th {\n",
       "        vertical-align: top;\n",
       "    }\n",
       "\n",
       "    .dataframe thead th {\n",
       "        text-align: right;\n",
       "    }\n",
       "</style>\n",
       "<table border=\"1\" class=\"dataframe\">\n",
       "  <thead>\n",
       "    <tr style=\"text-align: right;\">\n",
       "      <th></th>\n",
       "      <th>Year</th>\n",
       "      <th>State</th>\n",
       "      <th>Death_Cause</th>\n",
       "      <th>Deaths</th>\n",
       "      <th>Population</th>\n",
       "    </tr>\n",
       "  </thead>\n",
       "  <tbody>\n",
       "    <tr>\n",
       "      <th>0</th>\n",
       "      <td>1999</td>\n",
       "      <td>Alabama</td>\n",
       "      <td>suicide</td>\n",
       "      <td>436</td>\n",
       "      <td>4430141</td>\n",
       "    </tr>\n",
       "    <tr>\n",
       "      <th>1</th>\n",
       "      <td>1999</td>\n",
       "      <td>Alabama</td>\n",
       "      <td>homicide</td>\n",
       "      <td>293</td>\n",
       "      <td>4430141</td>\n",
       "    </tr>\n",
       "    <tr>\n",
       "      <th>2</th>\n",
       "      <td>1999</td>\n",
       "      <td>Alaska</td>\n",
       "      <td>suicide</td>\n",
       "      <td>55</td>\n",
       "      <td>624779</td>\n",
       "    </tr>\n",
       "    <tr>\n",
       "      <th>3</th>\n",
       "      <td>1999</td>\n",
       "      <td>Alaska</td>\n",
       "      <td>homicide</td>\n",
       "      <td>27</td>\n",
       "      <td>624779</td>\n",
       "    </tr>\n",
       "    <tr>\n",
       "      <th>4</th>\n",
       "      <td>1999</td>\n",
       "      <td>Arizona</td>\n",
       "      <td>suicide</td>\n",
       "      <td>477</td>\n",
       "      <td>5023823</td>\n",
       "    </tr>\n",
       "  </tbody>\n",
       "</table>\n",
       "</div>"
      ],
      "text/plain": [
       "   Year    State Death_Cause  Deaths  Population\n",
       "0  1999  Alabama     suicide     436     4430141\n",
       "1  1999  Alabama    homicide     293     4430141\n",
       "2  1999   Alaska     suicide      55      624779\n",
       "3  1999   Alaska    homicide      27      624779\n",
       "4  1999  Arizona     suicide     477     5023823"
      ]
     },
     "execution_count": 35,
     "metadata": {},
     "output_type": "execute_result"
    }
   ],
   "source": [
    "df2.head()"
   ]
  },
  {
   "cell_type": "markdown",
   "metadata": {},
   "source": [
    "Transform datatype from object to integer"
   ]
  },
  {
   "cell_type": "code",
   "execution_count": 19,
   "metadata": {},
   "outputs": [],
   "source": [
    "df2['Deaths'] = df2['Deaths'].astype(np.int)\n",
    "df2['Population'] = df2['Population'].astype(np.int)"
   ]
  },
  {
   "cell_type": "code",
   "execution_count": 20,
   "metadata": {},
   "outputs": [
    {
     "data": {
      "text/plain": [
       "Year           object\n",
       "State          object\n",
       "Death_Cause    object\n",
       "Deaths          int64\n",
       "Population      int64\n",
       "dtype: object"
      ]
     },
     "execution_count": 20,
     "metadata": {},
     "output_type": "execute_result"
    }
   ],
   "source": [
    "df2.dtypes"
   ]
  },
  {
   "cell_type": "markdown",
   "metadata": {},
   "source": [
    "Separate dataset into two categories"
   ]
  },
  {
   "cell_type": "code",
   "execution_count": 21,
   "metadata": {},
   "outputs": [],
   "source": [
    "suicide=df2[(df2['Death_Cause'].str.contains('suicide',na=False))]"
   ]
  },
  {
   "cell_type": "code",
   "execution_count": 22,
   "metadata": {},
   "outputs": [
    {
     "data": {
      "text/html": [
       "<div>\n",
       "<style scoped>\n",
       "    .dataframe tbody tr th:only-of-type {\n",
       "        vertical-align: middle;\n",
       "    }\n",
       "\n",
       "    .dataframe tbody tr th {\n",
       "        vertical-align: top;\n",
       "    }\n",
       "\n",
       "    .dataframe thead th {\n",
       "        text-align: right;\n",
       "    }\n",
       "</style>\n",
       "<table border=\"1\" class=\"dataframe\">\n",
       "  <thead>\n",
       "    <tr style=\"text-align: right;\">\n",
       "      <th></th>\n",
       "      <th>Year</th>\n",
       "      <th>State</th>\n",
       "      <th>Death_Cause</th>\n",
       "      <th>Deaths</th>\n",
       "      <th>Population</th>\n",
       "    </tr>\n",
       "  </thead>\n",
       "  <tbody>\n",
       "    <tr>\n",
       "      <th>0</th>\n",
       "      <td>1999</td>\n",
       "      <td>Alabama</td>\n",
       "      <td>suicide</td>\n",
       "      <td>436</td>\n",
       "      <td>4430141</td>\n",
       "    </tr>\n",
       "    <tr>\n",
       "      <th>2</th>\n",
       "      <td>1999</td>\n",
       "      <td>Alaska</td>\n",
       "      <td>suicide</td>\n",
       "      <td>55</td>\n",
       "      <td>624779</td>\n",
       "    </tr>\n",
       "    <tr>\n",
       "      <th>4</th>\n",
       "      <td>1999</td>\n",
       "      <td>Arizona</td>\n",
       "      <td>suicide</td>\n",
       "      <td>477</td>\n",
       "      <td>5023823</td>\n",
       "    </tr>\n",
       "    <tr>\n",
       "      <th>6</th>\n",
       "      <td>1999</td>\n",
       "      <td>Arkansas</td>\n",
       "      <td>suicide</td>\n",
       "      <td>236</td>\n",
       "      <td>2651860</td>\n",
       "    </tr>\n",
       "    <tr>\n",
       "      <th>8</th>\n",
       "      <td>1999</td>\n",
       "      <td>California</td>\n",
       "      <td>suicide</td>\n",
       "      <td>1534</td>\n",
       "      <td>33499204</td>\n",
       "    </tr>\n",
       "  </tbody>\n",
       "</table>\n",
       "</div>"
      ],
      "text/plain": [
       "   Year       State Death_Cause  Deaths  Population\n",
       "0  1999     Alabama     suicide     436     4430141\n",
       "2  1999      Alaska     suicide      55      624779\n",
       "4  1999     Arizona     suicide     477     5023823\n",
       "6  1999    Arkansas     suicide     236     2651860\n",
       "8  1999  California     suicide    1534    33499204"
      ]
     },
     "execution_count": 22,
     "metadata": {},
     "output_type": "execute_result"
    }
   ],
   "source": [
    "suicide.head()"
   ]
  },
  {
   "cell_type": "code",
   "execution_count": 23,
   "metadata": {},
   "outputs": [],
   "source": [
    "homicide=df2[(df2['Death_Cause'].str.contains('homicide',na=False))]"
   ]
  },
  {
   "cell_type": "code",
   "execution_count": 24,
   "metadata": {},
   "outputs": [
    {
     "data": {
      "text/html": [
       "<div>\n",
       "<style scoped>\n",
       "    .dataframe tbody tr th:only-of-type {\n",
       "        vertical-align: middle;\n",
       "    }\n",
       "\n",
       "    .dataframe tbody tr th {\n",
       "        vertical-align: top;\n",
       "    }\n",
       "\n",
       "    .dataframe thead th {\n",
       "        text-align: right;\n",
       "    }\n",
       "</style>\n",
       "<table border=\"1\" class=\"dataframe\">\n",
       "  <thead>\n",
       "    <tr style=\"text-align: right;\">\n",
       "      <th></th>\n",
       "      <th>Year</th>\n",
       "      <th>State</th>\n",
       "      <th>Death_Cause</th>\n",
       "      <th>Deaths</th>\n",
       "      <th>Population</th>\n",
       "    </tr>\n",
       "  </thead>\n",
       "  <tbody>\n",
       "    <tr>\n",
       "      <th>1</th>\n",
       "      <td>1999</td>\n",
       "      <td>Alabama</td>\n",
       "      <td>homicide</td>\n",
       "      <td>293</td>\n",
       "      <td>4430141</td>\n",
       "    </tr>\n",
       "    <tr>\n",
       "      <th>3</th>\n",
       "      <td>1999</td>\n",
       "      <td>Alaska</td>\n",
       "      <td>homicide</td>\n",
       "      <td>27</td>\n",
       "      <td>624779</td>\n",
       "    </tr>\n",
       "    <tr>\n",
       "      <th>5</th>\n",
       "      <td>1999</td>\n",
       "      <td>Arizona</td>\n",
       "      <td>homicide</td>\n",
       "      <td>303</td>\n",
       "      <td>5023823</td>\n",
       "    </tr>\n",
       "    <tr>\n",
       "      <th>7</th>\n",
       "      <td>1999</td>\n",
       "      <td>Arkansas</td>\n",
       "      <td>homicide</td>\n",
       "      <td>120</td>\n",
       "      <td>2651860</td>\n",
       "    </tr>\n",
       "    <tr>\n",
       "      <th>9</th>\n",
       "      <td>1999</td>\n",
       "      <td>California</td>\n",
       "      <td>homicide</td>\n",
       "      <td>1387</td>\n",
       "      <td>33499204</td>\n",
       "    </tr>\n",
       "  </tbody>\n",
       "</table>\n",
       "</div>"
      ],
      "text/plain": [
       "   Year       State Death_Cause  Deaths  Population\n",
       "1  1999     Alabama    homicide     293     4430141\n",
       "3  1999      Alaska    homicide      27      624779\n",
       "5  1999     Arizona    homicide     303     5023823\n",
       "7  1999    Arkansas    homicide     120     2651860\n",
       "9  1999  California    homicide    1387    33499204"
      ]
     },
     "execution_count": 24,
     "metadata": {},
     "output_type": "execute_result"
    }
   ],
   "source": [
    "homicide.head()"
   ]
  },
  {
   "cell_type": "markdown",
   "metadata": {},
   "source": [
    "Export Data for visualization in Tableau"
   ]
  },
  {
   "cell_type": "code",
   "execution_count": 301,
   "metadata": {},
   "outputs": [],
   "source": [
    "df2.to_csv(\"firearm_death.csv\", encoding='utf-8')"
   ]
  },
  {
   "cell_type": "code",
   "execution_count": 279,
   "metadata": {},
   "outputs": [],
   "source": [
    "homicide.to_csv(\"homicide_death.csv\", encoding='utf-8')"
   ]
  },
  {
   "cell_type": "code",
   "execution_count": 275,
   "metadata": {},
   "outputs": [],
   "source": [
    "suicide.to_csv(\"suicide_death.csv\", encoding='utf-8')"
   ]
  },
  {
   "cell_type": "code",
   "execution_count": 29,
   "metadata": {},
   "outputs": [],
   "source": [
    "gun_2013 = pd.read_csv(\"/Users/lipinyuan/Downloads/State gun death rate.csv\")"
   ]
  },
  {
   "cell_type": "code",
   "execution_count": 30,
   "metadata": {},
   "outputs": [
    {
     "data": {
      "text/html": [
       "<div>\n",
       "<style scoped>\n",
       "    .dataframe tbody tr th:only-of-type {\n",
       "        vertical-align: middle;\n",
       "    }\n",
       "\n",
       "    .dataframe tbody tr th {\n",
       "        vertical-align: top;\n",
       "    }\n",
       "\n",
       "    .dataframe thead th {\n",
       "        text-align: right;\n",
       "    }\n",
       "</style>\n",
       "<table border=\"1\" class=\"dataframe\">\n",
       "  <thead>\n",
       "    <tr style=\"text-align: right;\">\n",
       "      <th></th>\n",
       "      <th>State</th>\n",
       "      <th>Death Rate Per 100000</th>\n",
       "      <th>Gun Ownership Percentage</th>\n",
       "    </tr>\n",
       "  </thead>\n",
       "  <tbody>\n",
       "    <tr>\n",
       "      <th>0</th>\n",
       "      <td>Alabama</td>\n",
       "      <td>17.6</td>\n",
       "      <td>48.9</td>\n",
       "    </tr>\n",
       "    <tr>\n",
       "      <th>1</th>\n",
       "      <td>Alaska</td>\n",
       "      <td>19.8</td>\n",
       "      <td>61.7</td>\n",
       "    </tr>\n",
       "    <tr>\n",
       "      <th>2</th>\n",
       "      <td>Arizona</td>\n",
       "      <td>14.1</td>\n",
       "      <td>32.3</td>\n",
       "    </tr>\n",
       "    <tr>\n",
       "      <th>3</th>\n",
       "      <td>Arkansas</td>\n",
       "      <td>16.8</td>\n",
       "      <td>57.9</td>\n",
       "    </tr>\n",
       "    <tr>\n",
       "      <th>4</th>\n",
       "      <td>California</td>\n",
       "      <td>7.7</td>\n",
       "      <td>20.1</td>\n",
       "    </tr>\n",
       "  </tbody>\n",
       "</table>\n",
       "</div>"
      ],
      "text/plain": [
       "        State  Death Rate Per 100000  Gun Ownership Percentage\n",
       "0     Alabama                   17.6                      48.9\n",
       "1      Alaska                   19.8                      61.7\n",
       "2     Arizona                   14.1                      32.3\n",
       "3    Arkansas                   16.8                      57.9\n",
       "4  California                    7.7                      20.1"
      ]
     },
     "execution_count": 30,
     "metadata": {},
     "output_type": "execute_result"
    }
   ],
   "source": [
    "gun_2013.head()"
   ]
  },
  {
   "cell_type": "code",
   "execution_count": 34,
   "metadata": {},
   "outputs": [],
   "source": [
    "death = pd.merge(df2, gun_2013, on='State')"
   ]
  },
  {
   "cell_type": "code",
   "execution_count": 36,
   "metadata": {},
   "outputs": [
    {
     "data": {
      "text/html": [
       "<div>\n",
       "<style scoped>\n",
       "    .dataframe tbody tr th:only-of-type {\n",
       "        vertical-align: middle;\n",
       "    }\n",
       "\n",
       "    .dataframe tbody tr th {\n",
       "        vertical-align: top;\n",
       "    }\n",
       "\n",
       "    .dataframe thead th {\n",
       "        text-align: right;\n",
       "    }\n",
       "</style>\n",
       "<table border=\"1\" class=\"dataframe\">\n",
       "  <thead>\n",
       "    <tr style=\"text-align: right;\">\n",
       "      <th></th>\n",
       "      <th>Year</th>\n",
       "      <th>State</th>\n",
       "      <th>Death_Cause</th>\n",
       "      <th>Deaths</th>\n",
       "      <th>Population</th>\n",
       "      <th>Death Rate Per 100000</th>\n",
       "      <th>Gun Ownership Percentage</th>\n",
       "    </tr>\n",
       "  </thead>\n",
       "  <tbody>\n",
       "    <tr>\n",
       "      <th>0</th>\n",
       "      <td>1999</td>\n",
       "      <td>Alabama</td>\n",
       "      <td>suicide</td>\n",
       "      <td>436</td>\n",
       "      <td>4430141</td>\n",
       "      <td>17.6</td>\n",
       "      <td>48.9</td>\n",
       "    </tr>\n",
       "    <tr>\n",
       "      <th>1</th>\n",
       "      <td>1999</td>\n",
       "      <td>Alabama</td>\n",
       "      <td>homicide</td>\n",
       "      <td>293</td>\n",
       "      <td>4430141</td>\n",
       "      <td>17.6</td>\n",
       "      <td>48.9</td>\n",
       "    </tr>\n",
       "    <tr>\n",
       "      <th>2</th>\n",
       "      <td>2000</td>\n",
       "      <td>Alabama</td>\n",
       "      <td>suicide</td>\n",
       "      <td>428</td>\n",
       "      <td>4447100</td>\n",
       "      <td>17.6</td>\n",
       "      <td>48.9</td>\n",
       "    </tr>\n",
       "    <tr>\n",
       "      <th>3</th>\n",
       "      <td>2000</td>\n",
       "      <td>Alabama</td>\n",
       "      <td>homicide</td>\n",
       "      <td>294</td>\n",
       "      <td>4447100</td>\n",
       "      <td>17.6</td>\n",
       "      <td>48.9</td>\n",
       "    </tr>\n",
       "    <tr>\n",
       "      <th>4</th>\n",
       "      <td>2001</td>\n",
       "      <td>Alabama</td>\n",
       "      <td>suicide</td>\n",
       "      <td>389</td>\n",
       "      <td>4467634</td>\n",
       "      <td>17.6</td>\n",
       "      <td>48.9</td>\n",
       "    </tr>\n",
       "  </tbody>\n",
       "</table>\n",
       "</div>"
      ],
      "text/plain": [
       "   Year    State Death_Cause  Deaths  Population  Death Rate Per 100000  \\\n",
       "0  1999  Alabama     suicide     436     4430141                   17.6   \n",
       "1  1999  Alabama    homicide     293     4430141                   17.6   \n",
       "2  2000  Alabama     suicide     428     4447100                   17.6   \n",
       "3  2000  Alabama    homicide     294     4447100                   17.6   \n",
       "4  2001  Alabama     suicide     389     4467634                   17.6   \n",
       "\n",
       "   Gun Ownership Percentage  \n",
       "0                      48.9  \n",
       "1                      48.9  \n",
       "2                      48.9  \n",
       "3                      48.9  \n",
       "4                      48.9  "
      ]
     },
     "execution_count": 36,
     "metadata": {},
     "output_type": "execute_result"
    }
   ],
   "source": [
    "death.head()"
   ]
  },
  {
   "cell_type": "code",
   "execution_count": 41,
   "metadata": {},
   "outputs": [],
   "source": [
    "death_2013 = death[death.Year == \"2013\"]"
   ]
  },
  {
   "cell_type": "code",
   "execution_count": 42,
   "metadata": {},
   "outputs": [
    {
     "data": {
      "text/html": [
       "<div>\n",
       "<style scoped>\n",
       "    .dataframe tbody tr th:only-of-type {\n",
       "        vertical-align: middle;\n",
       "    }\n",
       "\n",
       "    .dataframe tbody tr th {\n",
       "        vertical-align: top;\n",
       "    }\n",
       "\n",
       "    .dataframe thead th {\n",
       "        text-align: right;\n",
       "    }\n",
       "</style>\n",
       "<table border=\"1\" class=\"dataframe\">\n",
       "  <thead>\n",
       "    <tr style=\"text-align: right;\">\n",
       "      <th></th>\n",
       "      <th>Year</th>\n",
       "      <th>State</th>\n",
       "      <th>Death_Cause</th>\n",
       "      <th>Deaths</th>\n",
       "      <th>Population</th>\n",
       "      <th>Death Rate Per 100000</th>\n",
       "      <th>Gun Ownership Percentage</th>\n",
       "    </tr>\n",
       "  </thead>\n",
       "  <tbody>\n",
       "    <tr>\n",
       "      <th>28</th>\n",
       "      <td>2013</td>\n",
       "      <td>Alabama</td>\n",
       "      <td>suicide</td>\n",
       "      <td>504</td>\n",
       "      <td>4833722</td>\n",
       "      <td>17.6</td>\n",
       "      <td>48.9</td>\n",
       "    </tr>\n",
       "    <tr>\n",
       "      <th>29</th>\n",
       "      <td>2013</td>\n",
       "      <td>Alabama</td>\n",
       "      <td>homicide</td>\n",
       "      <td>318</td>\n",
       "      <td>4833722</td>\n",
       "      <td>17.6</td>\n",
       "      <td>48.9</td>\n",
       "    </tr>\n",
       "    <tr>\n",
       "      <th>64</th>\n",
       "      <td>2013</td>\n",
       "      <td>Alaska</td>\n",
       "      <td>suicide</td>\n",
       "      <td>120</td>\n",
       "      <td>735132</td>\n",
       "      <td>19.8</td>\n",
       "      <td>61.7</td>\n",
       "    </tr>\n",
       "    <tr>\n",
       "      <th>65</th>\n",
       "      <td>2013</td>\n",
       "      <td>Alaska</td>\n",
       "      <td>homicide</td>\n",
       "      <td>19</td>\n",
       "      <td>735132</td>\n",
       "      <td>19.8</td>\n",
       "      <td>61.7</td>\n",
       "    </tr>\n",
       "    <tr>\n",
       "      <th>100</th>\n",
       "      <td>2013</td>\n",
       "      <td>Arizona</td>\n",
       "      <td>suicide</td>\n",
       "      <td>655</td>\n",
       "      <td>6626624</td>\n",
       "      <td>14.1</td>\n",
       "      <td>32.3</td>\n",
       "    </tr>\n",
       "  </tbody>\n",
       "</table>\n",
       "</div>"
      ],
      "text/plain": [
       "     Year    State Death_Cause  Deaths  Population  Death Rate Per 100000  \\\n",
       "28   2013  Alabama     suicide     504     4833722                   17.6   \n",
       "29   2013  Alabama    homicide     318     4833722                   17.6   \n",
       "64   2013   Alaska     suicide     120      735132                   19.8   \n",
       "65   2013   Alaska    homicide      19      735132                   19.8   \n",
       "100  2013  Arizona     suicide     655     6626624                   14.1   \n",
       "\n",
       "     Gun Ownership Percentage  \n",
       "28                       48.9  \n",
       "29                       48.9  \n",
       "64                       61.7  \n",
       "65                       61.7  \n",
       "100                      32.3  "
      ]
     },
     "execution_count": 42,
     "metadata": {},
     "output_type": "execute_result"
    }
   ],
   "source": [
    "death_2013.head()"
   ]
  },
  {
   "cell_type": "code",
   "execution_count": 43,
   "metadata": {},
   "outputs": [],
   "source": [
    "death_2013.to_csv(\"death_2013.csv\", encoding='utf-8')"
   ]
  },
  {
   "cell_type": "code",
   "execution_count": null,
   "metadata": {},
   "outputs": [],
   "source": []
  }
 ],
 "metadata": {
  "kernelspec": {
   "display_name": "Python 3",
   "language": "python",
   "name": "python3"
  },
  "language_info": {
   "codemirror_mode": {
    "name": "ipython",
    "version": 3
   },
   "file_extension": ".py",
   "mimetype": "text/x-python",
   "name": "python",
   "nbconvert_exporter": "python",
   "pygments_lexer": "ipython3",
   "version": "3.6.4"
  }
 },
 "nbformat": 4,
 "nbformat_minor": 2
}
